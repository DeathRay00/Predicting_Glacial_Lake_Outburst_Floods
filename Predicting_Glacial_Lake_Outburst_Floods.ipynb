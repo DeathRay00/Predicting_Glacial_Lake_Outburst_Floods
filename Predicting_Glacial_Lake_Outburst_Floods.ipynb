{
 "cells": [
  {
   "cell_type": "markdown",
   "id": "03ac58f4",
   "metadata": {},
   "source": [
    "<strong>Project Title</strong>\n",
    "AI for Predicting Glacial Lake Outburst Floods"
   ]
  },
  {
   "cell_type": "markdown",
   "id": "edfdf153",
   "metadata": {},
   "source": [
    "<strong>Project Statement:</strong>\n",
    "Accelerating glacier melt caused by rising temperatures is increasing the size of glacial lakes behind unstable natural dams. This change raises the chances of sudden, high-volume outburst floods. These floods can release millions of cubic meters of water without warning, putting downstream villages, infrastructure, and ecosystems at risk. Traditional monitoring methods, which often depend on infrequent field surveys and low-resolution images, do not offer the multi-day advance notice required for timely evacuations and disaster response."
   ]
  },
  {
   "cell_type": "markdown",
   "id": "1cf98062",
   "metadata": {},
   "source": [
    "<strong>Project Description:</strong>\n",
    "This dataset is a detailed account of each lake and glacier moment: when and where it happened (date, latitude/longitude, elevation), how the lake looks (area, volume, dam type/geometry), what the mountains feel like (slope, relief, drainage basin), how the glacier is changing (area, retreat, ice velocity), and what the sky and ground are doing (temperature anomaly, PDD, precipitation, seismic counts/magnitudes, distance to faults). These features provide early warnings by connecting recent climate changes to melt-driven inflows, seismic activity to dam weakening, and the land's shape to outburst pathways. Past events and the time since the last GLOF add context to the story. In practice, lake metrics indicate potential volume release, climate time series influence short-term risk, and seismic signals identify instability over the next week."
   ]
  },
  {
   "cell_type": "markdown",
   "id": "3b1f62ff",
   "metadata": {},
   "source": [
    "Importing Libraries"
   ]
  },
  {
   "cell_type": "code",
   "execution_count": 2,
   "id": "c3c4607b",
   "metadata": {},
   "outputs": [],
   "source": [
    "import numpy as np\n",
    "import pandas as pd\n",
    "from datetime import datetime\n",
    "from sklearn.model_selection import train_test_split\n",
    "from sklearn.preprocessing import StandardScaler, LabelEncoder\n",
    "from sklearn.ensemble import RandomForestClassifier, GradientBoostingClassifier\n",
    "from sklearn.metrics import classification_report, confusion_matrix, accuracy_score\n",
    "import joblib"
   ]
  },
  {
   "cell_type": "markdown",
   "id": "324b5375",
   "metadata": {},
   "source": [
    "Loading Data"
   ]
  },
  {
   "cell_type": "code",
   "execution_count": 14,
   "id": "75db8115",
   "metadata": {},
   "outputs": [],
   "source": [
    "df_raw = pd.read_csv('synthetic_glof_dataset.csv')"
   ]
  },
  {
   "cell_type": "markdown",
   "id": "4e7b1f12",
   "metadata": {},
   "source": [
    "To display first 5 rows"
   ]
  },
  {
   "cell_type": "code",
   "execution_count": 4,
   "id": "979f4413",
   "metadata": {},
   "outputs": [
    {
     "name": "stdout",
     "output_type": "stream",
     "text": [
      "   Event_ID  Year  ...  Glacier_to_Lake_Ratio  Elevation_Band\n",
      "0         1  2018  ...             150.926836        Very_Low\n",
      "1         2  2004  ...               8.232311        Very_Low\n",
      "2         3  1997  ...               8.301270          Medium\n",
      "3         4  2010  ...              13.199977            High\n",
      "4         5  2008  ...              31.408399             Low\n",
      "\n",
      "[5 rows x 32 columns]\n"
     ]
    }
   ],
   "source": [
    "print (df_raw.head())"
   ]
  },
  {
   "cell_type": "markdown",
   "id": "85153802",
   "metadata": {},
   "source": [
    "Removing Duplicate Values"
   ]
  },
  {
   "cell_type": "code",
   "execution_count": 15,
   "id": "fcddc16a",
   "metadata": {},
   "outputs": [
    {
     "name": "stdout",
     "output_type": "stream",
     "text": [
      "<class 'pandas.core.frame.DataFrame'>\n",
      "RangeIndex: 1000 entries, 0 to 999\n",
      "Data columns (total 32 columns):\n",
      " #   Column                           Non-Null Count  Dtype  \n",
      "---  ------                           --------------  -----  \n",
      " 0   Event_ID                         1000 non-null   int64  \n",
      " 1   Year                             1000 non-null   int64  \n",
      " 2   Month                            1000 non-null   int64  \n",
      " 3   Day                              1000 non-null   int64  \n",
      " 4   Latitude                         1000 non-null   float64\n",
      " 5   Longitude                        1000 non-null   float64\n",
      " 6   Elevation_m                      1000 non-null   float64\n",
      " 7   Lake_Area_km2                    1000 non-null   float64\n",
      " 8   Lake_Volume_MCM                  1000 non-null   float64\n",
      " 9   Dam_Height_m                     1000 non-null   float64\n",
      " 10  Dam_Width_m                      1000 non-null   float64\n",
      " 11  Lake_Type                        1000 non-null   object \n",
      " 12  Temperature_Anomaly_C            1000 non-null   float64\n",
      " 13  Precipitation_mm                 1000 non-null   float64\n",
      " 14  PDD_Total                        1000 non-null   float64\n",
      " 15  Seismic_Activity_Count           1000 non-null   int64  \n",
      " 16  Max_Earthquake_Magnitude         1000 non-null   float64\n",
      " 17  Distance_to_Fault_km             1000 non-null   float64\n",
      " 18  Glacier_Area_km2                 1000 non-null   float64\n",
      " 19  Glacier_Retreat_Rate_m_per_year  1000 non-null   float64\n",
      " 20  Ice_Velocity_m_per_year          1000 non-null   float64\n",
      " 21  Slope_Degree                     1000 non-null   float64\n",
      " 22  Relief_m                         1000 non-null   float64\n",
      " 23  Drainage_Basin_Area_km2          1000 non-null   float64\n",
      " 24  Previous_GLOF_Events             1000 non-null   int64  \n",
      " 25  Years_Since_Last_GLOF            1000 non-null   float64\n",
      " 26  GLOF_Risk_Level                  1000 non-null   int64  \n",
      " 27  GLOF_Occurred                    1000 non-null   int64  \n",
      " 28  Lake_Volume_per_Area             1000 non-null   float64\n",
      " 29  Dam_Aspect_Ratio                 1000 non-null   float64\n",
      " 30  Glacier_to_Lake_Ratio            1000 non-null   float64\n",
      " 31  Elevation_Band                   1000 non-null   object \n",
      "dtypes: float64(22), int64(8), object(2)\n",
      "memory usage: 250.1+ KB\n",
      "          Event_ID         Year  ...  Dam_Aspect_Ratio  Glacier_to_Lake_Ratio\n",
      "count  1000.000000  1000.000000  ...       1000.000000            1000.000000\n",
      "mean    500.500000  2007.398000  ...          0.314693              57.294201\n",
      "std     288.819436    10.389588  ...          0.240593             182.466506\n",
      "min       1.000000  1990.000000  ...          0.031880               0.185705\n",
      "25%     250.750000  1998.000000  ...          0.170653               7.039710\n",
      "50%     500.500000  2008.000000  ...          0.252009              18.701155\n",
      "75%     750.250000  2017.000000  ...          0.373730              47.156961\n",
      "max    1000.000000  2024.000000  ...          1.966300            4817.023150\n",
      "\n",
      "[8 rows x 30 columns]\n",
      "Event_ID                           0\n",
      "Year                               0\n",
      "Month                              0\n",
      "Day                                0\n",
      "Latitude                           0\n",
      "Longitude                          0\n",
      "Elevation_m                        0\n",
      "Lake_Area_km2                      0\n",
      "Lake_Volume_MCM                    0\n",
      "Dam_Height_m                       0\n",
      "Dam_Width_m                        0\n",
      "Lake_Type                          0\n",
      "Temperature_Anomaly_C              0\n",
      "Precipitation_mm                   0\n",
      "PDD_Total                          0\n",
      "Seismic_Activity_Count             0\n",
      "Max_Earthquake_Magnitude           0\n",
      "Distance_to_Fault_km               0\n",
      "Glacier_Area_km2                   0\n",
      "Glacier_Retreat_Rate_m_per_year    0\n",
      "Ice_Velocity_m_per_year            0\n",
      "Slope_Degree                       0\n",
      "Relief_m                           0\n",
      "Drainage_Basin_Area_km2            0\n",
      "Previous_GLOF_Events               0\n",
      "Years_Since_Last_GLOF              0\n",
      "GLOF_Risk_Level                    0\n",
      "GLOF_Occurred                      0\n",
      "Lake_Volume_per_Area               0\n",
      "Dam_Aspect_Ratio                   0\n",
      "Glacier_to_Lake_Ratio              0\n",
      "Elevation_Band                     0\n",
      "dtype: int64\n"
     ]
    }
   ],
   "source": [
    "df_raw.info()\n",
    "print (df_raw.describe())\n",
    "print (df_raw.isnull().sum())"
   ]
  }
 ],
 "metadata": {
  "kernelspec": {
   "display_name": "Python 3",
   "language": "python",
   "name": "python3"
  },
  "language_info": {
   "codemirror_mode": {
    "name": "ipython",
    "version": 3
   },
   "file_extension": ".py",
   "mimetype": "text/x-python",
   "name": "python",
   "nbconvert_exporter": "python",
   "pygments_lexer": "ipython3",
   "version": "3.12.10"
  }
 },
 "nbformat": 4,
 "nbformat_minor": 5
}
